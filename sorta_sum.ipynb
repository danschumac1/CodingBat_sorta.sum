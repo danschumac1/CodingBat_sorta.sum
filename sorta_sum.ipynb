{
 "cells": [
  {
   "cell_type": "markdown",
   "id": "0cfd07e3",
   "metadata": {},
   "source": [
    "# Logic-1 > sorta_sum"
   ]
  },
  {
   "cell_type": "markdown",
   "id": "fc5a93ff",
   "metadata": {},
   "source": [
    "Given 2 ints, a and b, return their sum. However, sums in the range 10..19 inclusive, are forbidden, so in that case just return 20.\n",
    "\n",
    "\n",
    "sorta_sum(3, 4) → 7\n",
    "\n",
    "sorta_sum(9, 4) → 20\n",
    "\n",
    "sorta_sum(10, 11) → 21"
   ]
  },
  {
   "cell_type": "code",
   "execution_count": 1,
   "id": "a596f7d6",
   "metadata": {},
   "outputs": [],
   "source": [
    "def sorta_sum(a, b):\n",
    "  num_sum = a+b\n",
    "  if num_sum >=10 and num_sum <=19:\n",
    "    return 20\n",
    "  else:\n",
    "    return num_sum"
   ]
  }
 ],
 "metadata": {
  "kernelspec": {
   "display_name": "Python 3 (ipykernel)",
   "language": "python",
   "name": "python3"
  },
  "language_info": {
   "codemirror_mode": {
    "name": "ipython",
    "version": 3
   },
   "file_extension": ".py",
   "mimetype": "text/x-python",
   "name": "python",
   "nbconvert_exporter": "python",
   "pygments_lexer": "ipython3",
   "version": "3.9.12"
  }
 },
 "nbformat": 4,
 "nbformat_minor": 5
}
